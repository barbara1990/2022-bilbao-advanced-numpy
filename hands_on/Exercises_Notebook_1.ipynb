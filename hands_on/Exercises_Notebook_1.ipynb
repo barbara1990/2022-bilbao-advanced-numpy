{
 "cells": [
  {
   "cell_type": "markdown",
   "metadata": {
    "nteract": {
     "transient": {
      "deleting": false
     }
    }
   },
   "source": [
    "# ASPP 2021\n",
    "## Advanced Numpy Excercises Topics 1 and 2\n"
   ]
  },
  {
   "cell_type": "code",
   "execution_count": 1,
   "metadata": {
    "ExecuteTime": {
     "end_time": "2021-08-19T07:22:38.870317Z",
     "start_time": "2021-08-19T07:22:38.859891Z"
    },
    "execution": {
     "iopub.execute_input": "2021-08-22T04:37:07.809Z",
     "iopub.status.busy": "2021-08-22T04:37:07.800Z",
     "iopub.status.idle": "2021-08-22T04:37:07.820Z",
     "shell.execute_reply": "2021-08-22T04:37:07.826Z"
    },
    "jupyter": {
     "outputs_hidden": false,
     "source_hidden": false
    },
    "nteract": {
     "transient": {
      "deleting": false
     }
    }
   },
   "outputs": [],
   "source": [
    "# Make sure that plots are displayed in the notebook\n",
    "%matplotlib inline\n",
    "\n",
    "# plotting library\n",
    "from matplotlib import pyplot as plt\n",
    "# for obvious reasons\n",
    "import numpy as np\n",
    "\n",
    "# a small number of handy tools that may be useful for these exercises\n",
    "import tools\n",
    "\n",
    "# if you get stuck, try hints.gimme(exersize_nr)\n",
    "import hints "
   ]
  },
  {
   "cell_type": "markdown",
   "metadata": {
    "nteract": {
     "transient": {
      "deleting": false
     }
    }
   },
   "source": [
    "## Topic 1: Warmup to Numpy Arrays"
   ]
  },
  {
   "cell_type": "markdown",
   "metadata": {
    "nteract": {
     "transient": {
      "deleting": false
     }
    }
   },
   "source": [
    "**1.1** Create a random 10x10 numpy array and visualize it using the command `plt.matshow()`"
   ]
  },
  {
   "cell_type": "code",
   "execution_count": 4,
   "metadata": {
    "execution": {
     "iopub.execute_input": "2021-08-22T04:37:08.883Z",
     "iopub.status.busy": "2021-08-22T04:37:08.874Z",
     "iopub.status.idle": "2021-08-22T04:37:08.897Z",
     "shell.execute_reply": "2021-08-22T04:37:08.905Z"
    },
    "jupyter": {
     "outputs_hidden": false,
     "source_hidden": false
    },
    "nteract": {
     "transient": {
      "deleting": false
     }
    }
   },
   "outputs": [
    {
     "data": {
      "image/png": "[encoded data removed]",
      "text/plain": [
       "<Figure size 288x288 with 1 Axes>"
      ]
     },
     "metadata": {
      "needs_background": "light"
     },
     "output_type": "display_data"
    }
   ],
   "source": [
    "# Solution Cell\n",
    "matrix = np.random.randint(1, 10, (10, 10))\n",
    "plt.matshow(matrix)\n",
    "plt.show()"
   ]
  },
  {
   "cell_type": "markdown",
   "metadata": {
    "nteract": {
     "transient": {
      "deleting": false
     }
    }
   },
   "source": [
    "**1.2** The scene: You are in a casino, playing roulette. You have decided your strategy will be to always bet on red. If you win, you gain 1€, if you lose you gain nothing. At each round you record your profit in a list.\n",
    "\n",
    "#!\n",
    "\n",
    "\n",
    "Simulate 1000 iterations of this: the probability of the ball landing on red is 50%. Try first to do it in a loop in Python without numpy. Then use Numpy to generate an array of ones and zeros. Which implementation wins the speed test?\n",
    "\n",
    "Use the function `timeit` in the local `tools` module.\n"
   ]
  },
  {
   "cell_type": "code",
   "execution_count": 8,
   "metadata": {
    "execution": {
     "iopub.execute_input": "2021-07-25T09:22:09.662Z",
     "iopub.status.busy": "2021-07-25T09:22:09.657Z",
     "iopub.status.idle": "2021-07-25T09:22:09.669Z",
     "shell.execute_reply": "2021-07-25T09:22:09.674Z"
    },
    "jupyter": {
     "outputs_hidden": false,
     "source_hidden": false
    },
    "nteract": {
     "transient": {
      "deleting": false
     }
    }
   },
   "outputs": [],
   "source": [
    "# Solution Cell\n",
    "import random\n",
    "\n",
    "# Write a function that takes the number of turns as an argument and adds a one or a zero to a list at each turn.\n",
    "def roulette_python(n_turns):\n",
    "    # add your code here\n",
    "    values = []\n",
    "    for i in range(n_turns):\n",
    "        val = int(random.random()>0.5)\n",
    "        values.append(val) \n",
    "    return values\n"
   ]
  },
  {
   "cell_type": "code",
   "execution_count": 9,
   "metadata": {
    "execution": {
     "iopub.execute_input": "2021-07-25T09:22:10.061Z",
     "iopub.status.busy": "2021-07-25T09:22:10.020Z",
     "iopub.status.idle": "2021-07-25T09:22:15.507Z",
     "shell.execute_reply": "2021-07-25T09:22:15.523Z"
    },
    "jupyter": {
     "outputs_hidden": false,
     "source_hidden": false
    },
    "nteract": {
     "transient": {
      "deleting": false
     }
    }
   },
   "outputs": [
    {
     "name": "stdout",
     "output_type": "stream",
     "text": [
      "Timing 'Z=roulette_python(1000)'\n",
      "128 us ± 1.73 us per loop (mean ± std. dev. of 7 runs, 10000 loops each)\n"
     ]
    }
   ],
   "source": [
    "# How long does it take?\n",
    "tools.timeit(\"Z=roulette_python(1000)\", globals())"
   ]
  },
  {
   "cell_type": "code",
   "execution_count": 10,
   "metadata": {
    "execution": {
     "iopub.execute_input": "2021-07-25T09:22:15.514Z",
     "iopub.status.busy": "2021-07-25T09:22:15.511Z",
     "iopub.status.idle": "2021-07-25T09:22:16.150Z",
     "shell.execute_reply": "2021-07-25T09:22:16.157Z"
    },
    "jupyter": {
     "outputs_hidden": false,
     "source_hidden": false
    },
    "nteract": {
     "transient": {
      "deleting": false
     }
    }
   },
   "outputs": [
    {
     "name": "stdout",
     "output_type": "stream",
     "text": [
      "Timing 'Z=np.random.uniform(0,1,1000)'\n",
      "8.57 us ± 0.08 us per loop (mean ± std. dev. of 7 runs, 100000 loops each)\n"
     ]
    }
   ],
   "source": [
    "# Find the numpy command that does the same thing in a vectorized way\n",
    "tools.timeit(\"Z=np.random.uniform(0,1,1000)\", globals())"
   ]
  },
  {
   "cell_type": "markdown",
   "metadata": {
    "nteract": {
     "transient": {
      "deleting": false
     }
    }
   },
   "source": [
    "### Cool, let's back up though and look at lists again for a minute:\n",
    "\n",
    "**1.3** The command `print(hex(id(my_list)))` shows you a hash that refers to the location in memory of `my_list`.\n",
    "\n",
    "Try these: \n",
    "\n",
    "a) make a list and check its hash. Then change an element of the list and check again. Does the location in memory change?\n",
    "\n",
    "b) make a tuple like `my_tuple=(1,2)`. Check the hash again. Is it possible to change it in the same way? If you redefine `my_tuple`, does the hash change?\n",
    "\n",
    "(c) try with other datatypes you can think of!)"
   ]
  },
  {
   "cell_type": "code",
   "execution_count": 12,
   "metadata": {
    "jupyter": {
     "outputs_hidden": false,
     "source_hidden": false
    },
    "nteract": {
     "transient": {
      "deleting": false
     }
    }
   },
   "outputs": [
    {
     "name": "stdout",
     "output_type": "stream",
     "text": [
      "0x7fed64812f00\n",
      "0x7fed64812f00\n"
     ]
    }
   ],
   "source": [
    "# Solution Cell\n",
    "mylist = [1,2,3,4]\n",
    "print(hex(id(mylist)))\n",
    "mylist[2]=0\n",
    "print(hex(id(mylist)))"
   ]
  },
  {
   "cell_type": "code",
   "execution_count": 14,
   "metadata": {},
   "outputs": [
    {
     "name": "stdout",
     "output_type": "stream",
     "text": [
      "0x7fed656dfa00\n",
      "0x7fed648381c0\n"
     ]
    }
   ],
   "source": [
    "mytuple = (1, 2)\n",
    "print(hex(id(mytuple)))\n",
    "mytuple = 0, 2\n",
    "print(hex(id(mytuple)))"
   ]
  },
  {
   "cell_type": "code",
   "execution_count": 15,
   "metadata": {},
   "outputs": [
    {
     "name": "stdout",
     "output_type": "stream",
     "text": [
      "0x7fed649b4600\n",
      "0x7fed649b4600\n"
     ]
    }
   ],
   "source": [
    "d = {1: 2, 3: 4}\n",
    "print(hex(id(d)))\n",
    "d[1] = 5\n",
    "print(hex(id(d)))"
   ]
  },
  {
   "cell_type": "markdown",
   "metadata": {
    "nteract": {
     "transient": {
      "deleting": false
     }
    }
   },
   "source": [
    "## Topic 2: Numpy Indexing"
   ]
  },
  {
   "cell_type": "markdown",
   "metadata": {
    "nteract": {
     "transient": {
      "deleting": false
     }
    }
   },
   "source": [
    "**2.1** Create another random 10x10 numpy array, like in 1.1. Now print the element in the fourth column and the fifth row."
   ]
  },
  {
   "cell_type": "code",
   "execution_count": 16,
   "metadata": {
    "jupyter": {
     "outputs_hidden": false,
     "source_hidden": false
    },
    "nteract": {
     "transient": {
      "deleting": false
     }
    }
   },
   "outputs": [
    {
     "name": "stdout",
     "output_type": "stream",
     "text": [
      "[[4 1 6 8 3 9 6 1 6 2]\n",
      " [3 6 7 1 4 7 9 3 7 6]\n",
      " [9 4 3 4 7 8 9 6 5 8]\n",
      " [9 9 5 2 1 6 7 3 8 7]\n",
      " [2 5 8 8 6 8 7 9 8 4]\n",
      " [7 5 5 8 6 8 4 1 6 2]\n",
      " [2 7 4 5 8 6 2 4 5 3]\n",
      " [8 2 5 1 7 8 3 1 8 6]\n",
      " [8 6 2 7 4 5 2 8 4 2]\n",
      " [2 4 2 2 2 2 1 9 6 7]]\n",
      "8\n"
     ]
    }
   ],
   "source": [
    "# Solution Cell\n",
    "matrix = np.random.randint(1, 10, (10, 10))\n",
    "print(matrix)\n",
    "print(matrix[4, 3])"
   ]
  },
  {
   "cell_type": "markdown",
   "metadata": {
    "nteract": {
     "transient": {
      "deleting": false
     }
    }
   },
   "source": [
    "**2.2** Print the entire fifth row."
   ]
  },
  {
   "cell_type": "code",
   "execution_count": 17,
   "metadata": {
    "jupyter": {
     "outputs_hidden": false,
     "source_hidden": false
    },
    "nteract": {
     "transient": {
      "deleting": false
     }
    }
   },
   "outputs": [
    {
     "data": {
      "text/plain": [
       "array([2, 5, 8, 8, 6, 8, 7, 9, 8, 4])"
      ]
     },
     "execution_count": 17,
     "metadata": {},
     "output_type": "execute_result"
    }
   ],
   "source": [
    "# Solution Cell\n",
    "matrix[4]"
   ]
  },
  {
   "cell_type": "markdown",
   "metadata": {
    "nteract": {
     "transient": {
      "deleting": false
     }
    }
   },
   "source": [
    "### Wait! Don't run these cells!\n",
    "**2.3** Discuss with your partner before executing each cell- what will the output dimension be?"
   ]
  },
  {
   "cell_type": "code",
   "execution_count": 21,
   "metadata": {
    "execution": {
     "iopub.execute_input": "2021-07-27T09:10:06.822Z",
     "iopub.status.busy": "2021-07-27T09:10:06.815Z",
     "iopub.status.idle": "2021-07-27T09:10:06.835Z",
     "shell.execute_reply": "2021-07-27T09:10:06.839Z"
    },
    "jupyter": {
     "outputs_hidden": false,
     "source_hidden": false
    },
    "nteract": {
     "transient": {
      "deleting": false
     }
    }
   },
   "outputs": [
    {
     "data": {
      "text/plain": [
       "(5, 5, 5)"
      ]
     },
     "execution_count": 21,
     "metadata": {},
     "output_type": "execute_result"
    }
   ],
   "source": [
    "a=np.zeros((5,5,5))\n",
    "a.shape"
   ]
  },
  {
   "cell_type": "code",
   "execution_count": 19,
   "metadata": {
    "execution": {
     "iopub.execute_input": "2021-07-27T09:10:11.532Z",
     "iopub.status.busy": "2021-07-27T09:10:11.525Z",
     "iopub.status.idle": "2021-07-27T09:10:11.547Z",
     "shell.execute_reply": "2021-07-27T09:10:11.553Z"
    },
    "jupyter": {
     "outputs_hidden": false,
     "source_hidden": false
    },
    "nteract": {
     "transient": {
      "deleting": false
     }
    }
   },
   "outputs": [
    {
     "data": {
      "text/plain": [
       "(3, 3)"
      ]
     },
     "execution_count": 19,
     "metadata": {},
     "output_type": "execute_result"
    }
   ],
   "source": [
    "a[1, ::2, ::2].shape"
   ]
  },
  {
   "cell_type": "code",
   "execution_count": 22,
   "metadata": {
    "execution": {
     "iopub.execute_input": "2021-07-27T09:10:25.992Z",
     "iopub.status.busy": "2021-07-27T09:10:25.985Z",
     "iopub.status.idle": "2021-07-27T09:10:26.007Z",
     "shell.execute_reply": "2021-07-27T09:10:26.013Z"
    },
    "jupyter": {
     "outputs_hidden": false,
     "source_hidden": false
    },
    "nteract": {
     "transient": {
      "deleting": false
     }
    }
   },
   "outputs": [
    {
     "data": {
      "text/plain": [
       "(3,)"
      ]
     },
     "execution_count": 22,
     "metadata": {},
     "output_type": "execute_result"
    }
   ],
   "source": [
    "a=np.zeros((3,3))\n",
    "a[1,:].shape"
   ]
  },
  {
   "cell_type": "markdown",
   "metadata": {
    "nteract": {
     "transient": {
      "deleting": false
     }
    }
   },
   "source": [
    "**2.4** Now you want an irregular subset of data. \n",
    "\n",
    "a) Print the second and third column!\n",
    "\n",
    "b) Print every second row of the second and third column!"
   ]
  },
  {
   "cell_type": "code",
   "execution_count": 31,
   "metadata": {
    "execution": {
     "iopub.execute_input": "2021-08-22T04:40:35.357Z",
     "iopub.status.busy": "2021-08-22T04:40:35.350Z",
     "iopub.status.idle": "2021-08-22T04:40:35.432Z",
     "shell.execute_reply": "2021-08-22T04:40:35.439Z"
    },
    "jupyter": {
     "outputs_hidden": false,
     "source_hidden": false
    },
    "nteract": {
     "transient": {
      "deleting": false
     }
    }
   },
   "outputs": [
    {
     "data": {
      "text/plain": [
       "array([[0.78510704, 0.06841582, 0.62209467, 0.45607372, 0.90788098],\n",
       "       [0.55770947, 0.59621755, 0.25673173, 0.77583221, 0.73975496],\n",
       "       [0.39907665, 0.0528845 , 0.02171976, 0.31865394, 0.6714075 ],\n",
       "       [0.54557943, 0.5756162 , 0.21488818, 0.25941286, 0.79294856],\n",
       "       [0.83363386, 0.3334045 , 0.01974704, 0.80852371, 0.2702745 ]])"
      ]
     },
     "execution_count": 31,
     "metadata": {},
     "output_type": "execute_result"
    }
   ],
   "source": [
    "a = np.random.rand(5,5)\n",
    "a"
   ]
  },
  {
   "cell_type": "code",
   "execution_count": 36,
   "metadata": {
    "execution": {
     "iopub.execute_input": "2021-08-22T04:40:37.081Z",
     "iopub.status.busy": "2021-08-22T04:40:37.073Z",
     "iopub.status.idle": "2021-08-22T04:40:37.094Z",
     "shell.execute_reply": "2021-08-22T04:40:37.101Z"
    },
    "jupyter": {
     "outputs_hidden": false,
     "source_hidden": false
    },
    "nteract": {
     "transient": {
      "deleting": false
     }
    }
   },
   "outputs": [
    {
     "data": {
      "text/plain": [
       "array([[0.06841582, 0.62209467],\n",
       "       [0.59621755, 0.25673173],\n",
       "       [0.0528845 , 0.02171976],\n",
       "       [0.5756162 , 0.21488818],\n",
       "       [0.3334045 , 0.01974704]])"
      ]
     },
     "execution_count": 36,
     "metadata": {},
     "output_type": "execute_result"
    }
   ],
   "source": [
    "# Solution Cell\n",
    "a[:, 1:3]"
   ]
  },
  {
   "cell_type": "code",
   "execution_count": 37,
   "metadata": {},
   "outputs": [
    {
     "data": {
      "text/plain": [
       "array([[0.59621755, 0.25673173],\n",
       "       [0.5756162 , 0.21488818]])"
      ]
     },
     "execution_count": 37,
     "metadata": {},
     "output_type": "execute_result"
    }
   ],
   "source": [
    "a[1::2,1:3]"
   ]
  },
  {
   "cell_type": "markdown",
   "metadata": {
    "nteract": {
     "transient": {
      "deleting": false
     }
    }
   },
   "source": [
    "**2.5** Again, discuss with your partner before executing each cell- what will the output dimension be?"
   ]
  },
  {
   "cell_type": "code",
   "execution_count": 33,
   "metadata": {
    "execution": {
     "iopub.execute_input": "2021-07-27T09:19:41.639Z",
     "iopub.status.busy": "2021-07-27T09:19:41.632Z",
     "iopub.status.idle": "2021-07-27T09:19:41.656Z",
     "shell.execute_reply": "2021-07-27T09:19:41.664Z"
    },
    "jupyter": {
     "outputs_hidden": false,
     "source_hidden": false
    },
    "nteract": {
     "transient": {
      "deleting": false
     }
    }
   },
   "outputs": [
    {
     "data": {
      "text/plain": [
       "(2, 2)"
      ]
     },
     "execution_count": 33,
     "metadata": {},
     "output_type": "execute_result"
    }
   ],
   "source": [
    "#a=np.zeros((5,5))\n",
    "a[[2,3], 2:4].shape"
   ]
  },
  {
   "cell_type": "code",
   "execution_count": 35,
   "metadata": {
    "execution": {
     "iopub.execute_input": "2021-07-27T09:19:46.127Z",
     "iopub.status.busy": "2021-07-27T09:19:46.119Z",
     "iopub.status.idle": "2021-07-27T09:19:46.146Z",
     "shell.execute_reply": "2021-07-27T09:19:46.153Z"
    },
    "jupyter": {
     "outputs_hidden": false,
     "source_hidden": false
    },
    "nteract": {
     "transient": {
      "deleting": false
     }
    }
   },
   "outputs": [
    {
     "data": {
      "text/plain": [
       "(2,)"
      ]
     },
     "execution_count": 35,
     "metadata": {},
     "output_type": "execute_result"
    }
   ],
   "source": [
    "a[[2,3], [2,3]].shape"
   ]
  },
  {
   "cell_type": "code",
   "execution_count": null,
   "metadata": {
    "collapsed": true
   },
   "outputs": [],
   "source": []
  }
 ],
 "metadata": {
  "hide_input": false,
  "kernel_info": {
   "name": "scenewalk"
  },
  "kernelspec": {
   "display_name": "Python 3 (ipykernel)",
   "language": "python",
   "name": "python3"
  },
  "language_info": {
   "codemirror_mode": {
    "name": "ipython",
    "version": 3
   },
   "file_extension": ".py",
   "mimetype": "text/x-python",
   "name": "python",
   "nbconvert_exporter": "python",
   "pygments_lexer": "ipython3",
   "version": "3.10.6"
  },
  "nteract": {
   "version": "0.28.0"
  },
  "toc": {
   "nav_menu": {
    "height": "120px",
    "width": "252px"
   },
   "navigate_menu": true,
   "number_sections": true,
   "sideBar": true,
   "threshold": 4,
   "toc_cell": false,
   "toc_section_display": "block",
   "toc_window_display": false
  }
 },
 "nbformat": 4,
 "nbformat_minor": 1
}
